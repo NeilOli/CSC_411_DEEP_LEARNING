{
 "cells": [
  {
   "cell_type": "code",
   "execution_count": 1,
   "metadata": {},
   "outputs": [],
   "source": [
    "import numpy as np\n",
    "import matplotlib.pyplot as plt\n",
    "import os\n",
    "import cv2"
   ]
  },
  {
   "cell_type": "code",
   "execution_count": 2,
   "metadata": {},
   "outputs": [
    {
     "data": {
      "image/png": "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\n",
      "text/plain": [
       "<Figure size 432x288 with 1 Axes>"
      ]
     },
     "metadata": {
      "needs_background": "light"
     },
     "output_type": "display_data"
    }
   ],
   "source": [
    "DATADIR = \"C:/Datasets/Circles\"\n",
    "CATEGORIES = [\"5\", \"10\", \"15\", \"20\", \"25\", \"30\", \"35\", \"40\", \"45\", \"50\"]\n",
    "\n",
    "for category in CATEGORIES:\n",
    "    path = os.path.join(DATADIR, category) \n",
    "    for img in os.listdir(path):\n",
    "        img_array = cv2.imread(os.path.join(path,img),cv2.IMREAD_GRAYSCALE)\n",
    "        plt.imshow(img_array, cmap=\"gray\")\n",
    "        plt.show()\n",
    "        break\n",
    "    break"
   ]
  },
  {
   "cell_type": "code",
   "execution_count": 3,
   "metadata": {},
   "outputs": [
    {
     "data": {
      "text/plain": [
       "<matplotlib.image.AxesImage at 0x2ad43083c8>"
      ]
     },
     "execution_count": 3,
     "metadata": {},
     "output_type": "execute_result"
    },
    {
     "data": {
      "image/png": "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\n",
      "text/plain": [
       "<Figure size 432x288 with 1 Axes>"
      ]
     },
     "metadata": {
      "needs_background": "light"
     },
     "output_type": "display_data"
    }
   ],
   "source": [
    "IMG_SIZE = 75\n",
    "\n",
    "new_array = cv2.resize(img_array, (IMG_SIZE, IMG_SIZE))\n",
    "plt.imshow(new_array, cmap = 'gray')"
   ]
  },
  {
   "cell_type": "code",
   "execution_count": 4,
   "metadata": {},
   "outputs": [],
   "source": [
    "training_data = []\n",
    "\n",
    "def create_training_data():\n",
    "    for category in CATEGORIES:\n",
    "        path = os.path.join(DATADIR, category)\n",
    "        class_num = CATEGORIES.index(category)\n",
    "        for img in os.listdir(path):\n",
    "            try:\n",
    "                img_array = cv2.imread(os.path.join(path,img),cv2.IMREAD_GRAYSCALE)\n",
    "                new_array = cv2.resize(img_array, (IMG_SIZE, IMG_SIZE))\n",
    "                training_data.append([new_array, class_num])\n",
    "            except Exception as e:\n",
    "                pass\n",
    "            \n",
    "create_training_data()"
   ]
  },
  {
   "cell_type": "code",
   "execution_count": 5,
   "metadata": {},
   "outputs": [],
   "source": [
    "import random\n",
    "\n",
    "random.shuffle(training_data)"
   ]
  },
  {
   "cell_type": "code",
   "execution_count": 6,
   "metadata": {},
   "outputs": [
    {
     "name": "stdout",
     "output_type": "stream",
     "text": [
      "3\n",
      "2\n",
      "8\n",
      "2\n",
      "1\n",
      "2\n",
      "1\n",
      "4\n",
      "0\n",
      "2\n"
     ]
    }
   ],
   "source": [
    "for sample in training_data[:10]:\n",
    "    print(sample[1])"
   ]
  },
  {
   "cell_type": "code",
   "execution_count": 7,
   "metadata": {},
   "outputs": [],
   "source": [
    "A = []\n",
    "b = []"
   ]
  },
  {
   "cell_type": "code",
   "execution_count": 8,
   "metadata": {},
   "outputs": [],
   "source": [
    "for features, label in training_data:\n",
    "    A.append(features)\n",
    "    b.append(label)\n",
    "\n",
    "A = np.array(A).reshape(-1, IMG_SIZE, IMG_SIZE, 1)"
   ]
  },
  {
   "cell_type": "code",
   "execution_count": 9,
   "metadata": {},
   "outputs": [],
   "source": [
    "import pickle\n",
    "\n",
    "pickle_out = open(\"A.pickle\", \"wb\")\n",
    "pickle.dump(A, pickle_out)\n",
    "pickle_out.close()\n",
    "\n",
    "pickle_out = open(\"b.pickle\", \"wb\")\n",
    "pickle.dump(b, pickle_out)\n",
    "pickle_out.close()"
   ]
  },
  {
   "cell_type": "code",
   "execution_count": 10,
   "metadata": {},
   "outputs": [],
   "source": [
    "pickle_in = open(\"A.pickle\", \"rb\")\n",
    "A = pickle.load(pickle_in)"
   
