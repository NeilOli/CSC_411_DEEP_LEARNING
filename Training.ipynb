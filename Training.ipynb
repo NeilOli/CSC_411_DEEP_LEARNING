{
 "cells": [
  {
   "cell_type": "code",
   "execution_count": 4,
   "metadata": {},
   "outputs": [
    {
     "name": "stdout",
     "output_type": "stream",
     "text": [
      "Epoch 1/10\n",
      "10000/10000 [==============================] - 23s 2ms/step - loss: 1.8054 - acc: 0.3094\n",
      "Epoch 2/10\n",
      "10000/10000 [==============================] - 22s 2ms/step - loss: 1.1241 - acc: 0.6373\n",
      "Epoch 3/10\n",
      "10000/10000 [==============================] - 21s 2ms/step - loss: 0.8095 - acc: 0.7866\n",
      "Epoch 4/10\n",
      "10000/10000 [==============================] - 20s 2ms/step - loss: 0.6154 - acc: 0.8795: 4s - loss: 0.6 - ETA:  - ETA: 1s - loss:\n",
      "Epoch 5/10\n",
      "10000/10000 [==============================] - 20s 2ms/step - loss: 0.4763 - acc: 0.9262\n",
      "Epoch 6/10\n",
      "10000/10000 [==============================] - 20s 2ms/step - loss: 0.3724 - acc: 0.9586\n",
      "Epoch 7/10\n",
      "10000/10000 [==============================] - 22s 2ms/step - loss: 0.2900 - acc: 0.9760\n",
      "Epoch 8/10\n",
      " 9824/10000 [============================>.] - ETA: 0s - loss: 0.2307 - acc: 0.9886WARNING:tensorflow:Method on_batch_end() is slow compared to the batch update (0.107517). Check your callbacks.\n",
      " 9856/10000 [============================>.] - ETA: 0s - loss: 0.2308 - acc: 0.9886WARNING:tensorflow:Method on_batch_end() is slow compared to the batch update (0.107517). Check your callbacks.\n",
      " 9888/10000 [============================>.] - ETA: 0s - loss: 0.2309 - acc: 0.9886WARNING:tensorflow:Method on_batch_end() is slow compared to the batch update (0.122049). Check your callbacks.\n",
      " 9920/10000 [============================>.] - ETA: 0s - loss: 0.2307 - acc: 0.9885WARNING:tensorflow:Method on_batch_end() is slow compared to the batch update (0.104545). Check your callbacks.\n",
      " 9952/10000 [============================>.] - ETA: 0s - loss: 0.2305 - acc: 0.9885WARNING:tensorflow:Method on_batch_end() is slow compared to the batch update (0.104545). Check your callbacks.\n",
      " 9984/10000 [============================>.] - ETA: 0s - loss: 0.2306 - acc: 0.9885WARNING:tensorflow:Method on_batch_end() is slow compared to the batch update (0.104545). Check your callbacks.\n",
      "10000/10000 [==============================] - 20s 2ms/step - loss: 0.2307 - acc: 0.9884\n",
      "Epoch 9/10\n",
      "10000/10000 [==============================] - 21s 2ms/step - loss: 0.1818 - acc: 0.9947\n",
      "Epoch 10/10\n",
      "10000/10000 [==============================] - 19s 2ms/step - loss: 0.1435 - acc: 0.9967\n"
     ]
    },
    {
     "data": {
      "text/plain": [
       "<tensorflow.python.keras.callbacks.History at 0xe046238d0>"
      ]
     },
     "execution_count": 4,
     "metadata": {},
     "output_type": "execute_result"
    }
   ],
   "source": [
    "import tensorflow as tf\n",
    "import pickle\n",
    "import numpy as np \n",
    "from tensorflow.keras.callbacks import TensorBoard\n",
    "\n",
    "NAME = \"CircleVal\"\n",
    "\n",
    "tensorboard = TensorBoard(log_dir = 'C:/Datasets/Circles/logs/{}'.format(NAME))\n",
    "\n",
    "A = pickle.load(open(\"A.pickle\", \"rb\"))\n",
    "b1 = pickle.load(open(\"b.pickle\", \"rb\"))\n",
    "b = np.asarray(b1)\n",
    "\n",
    "A = tf.keras.utils.normalize(A, axis=1) # changes data from 0-1\n",
    "\n",
    "model = tf.keras.models.Sequential() # input layer\n",
    "model.add(tf.keras.layers.Flatten())\n",
    "model.add(tf.keras.layers.Dense(128, activation = tf.nn.relu))# 128 neurons in layer\n",
    "model.add(tf.keras.layers.Dense(10, activation = tf.nn.softmax)) #softmax for probability distrubution\n",
    "\n",
    "\n",
    "# parameters\n",
    "\n",
    "model.compile(optimizer = 'adam',\n",
    "             loss = 'sparse_categorical_crossentropy',\n",
    "             metrics = ['accuracy'])\n",
    "\n",
    "# train the model\n",
    "\n",
    "model.fit(A, b, epochs = 10, callbacks = [tensorboard])"
   ]
  },
  {
   "cell_type": "code",
   "execution_count": null,
   "metadata": {},
   "outputs": [],
   "source": []
  }
 ],
 "metadata": {
  "kernelspec": {
   "display_name": "tensorflow",
   "language": "python",
   "name": "tensorflow"
  },
  "language_info": {
   "codemirror_mode": {
    "name": "ipython",
    "version": 3
   },
   "file_extension": ".py",
   "mimetype": "text/x-python",
   "name": "python",
   "nbconvert_exporter": "python",
   "pygments_lexer": "ipython3",
   "version": "3.6.8"
  }
 },
 "nbformat": 4,
 "nbformat_minor": 2
}
