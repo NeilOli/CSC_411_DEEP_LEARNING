{
 "cells": [
  {
   "cell_type": "code",
   "execution_count": 16,
   "metadata": {},
   "outputs": [],
   "source": [
    "import numpy as np \n",
    "from numpy import append\n",
    "import cv2 \n",
    "from random import random, randint  \n",
    "\n",
    "\n",
    "i = 0\n",
    "\n",
    "while i < 100:\n",
    "    \n",
    "    i += 1\n",
    "    \n",
    "    img = np.zeros((400, 400, 1), dtype = \"uint8\")\n",
    "    \n",
    "    radii = randint(10,50)\n",
    "     \n",
    "    center_x = randint(50,350)\n",
    "    \n",
    "    center_y = randint(50,350)\n",
    "    \n",
    "    circle_data = []\n",
    "    \n",
    "    circle_data.append(radii)\n",
    "    circle_data.append(center_x)\n",
    "    circle_data.append(center_y)\n",
    "    \n",
    "    cv2.circle(img, (circle_data[1], circle_data[2]), circle_data[0], (255, 0, 0), 1)\n",
    "\n",

    "    cv2.imwrite(\"C:/Datasets/Circles/circle{}.jpg\".format(i), img)\n",
    "\n",
    "    \n",
    "\n",
    "\n"
   ]
  },
  {
   "cell_type": "code",
   "execution_count": null,
   "metadata": {},
   "outputs": [],
   "source": [
    " "
   ]
  }
 ],
 "metadata": {
  "kernelspec": {
   "display_name": "tensorflow",
   "language": "python",
   "name": "tensorflow"
  },
  "language_info": {
   "codemirror_mode": {
    "name": "ipython",
    "version": 3
   },
   "file_extension": ".py",
   "mimetype": "text/x-python",
   "name": "python",
   "nbconvert_exporter": "python",
   "pygments_lexer": "ipython3",
   "version": "3.6.8"
  }
 },
 "nbformat": 4,
 "nbformat_minor": 2
}
