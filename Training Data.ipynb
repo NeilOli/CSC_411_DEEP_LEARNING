{
 "cells": [
  {
   "cell_type": "code",
   "execution_count": 3,
   "metadata": {},
   "outputs": [
    {
     "data": {
      "application/vnd.jupyter.widget-view+json": {
       "model_id": "dbab034b326f43bbb3f77263af3c6896",
       "version_major": 2,
       "version_minor": 0
      },
      "text/plain": [
       "HBox(children=(IntProgress(value=0, max=20000), HTML(value='')))"
      ]
     },
     "metadata": {},
     "output_type": "display_data"
    },
    {
     "name": "stdout",
     "output_type": "stream",
     "text": [
      "\n"
     ]
    }
   ],
   "source": [
    "import numpy as np \n",
    "from numpy import append\n",
    "import cv2 \n",
    "from tqdm import tqdm_notebook as tqdm\n",
    "from random import random, randint  \n",
    "\n",
    "Volume1 = []\n",
    "\n",
    "for k in tqdm(range(0,20000)):\n",
    "    \n",
    "    img = np.zeros((400, 400, 1), dtype = \"uint8\")\n",
    "    t_v = 0\n",
    "    i = 0\n",
    "\n",
    "    \n",
    "    while i < 10:\n",
    "        circle_data = []\n",
    "        \n",
    "        \n",
    "        radii = randint(5,20)\n",
    "\n",
    "        center_x = randint(50,350)\n",
    "\n",
    "        center_y = randint(50,350)\n",
    "\n",
    "        circle_data.append(radii)\n",
    "        circle_data.append(center_x)\n",
    "        circle_data.append(center_y)\n",
    "\n",
    "        cv2.circle(img, (circle_data[1], circle_data[2]), circle_data[0], (255, 0, 0), -1)\n",
    "        \n",
    "        \n",
    "        t_v = ((2/3)*(np.pi)*(radii)**3)\n",
    "        \n",
    "        t_v += t_v\n",
    "        \n",
    "        cv2.imwrite(\"C:/Datasets/Volume_(2)/{}.jpg\".format(k), img)\n",
    "        \n",
    "        i += 1\n",
    "    \n",
    "    Volume1.append(t_v) \n",
    "  \n"
   ]
  },
  {
   "cell_type": "code",
   "execution_count": 4,
   "metadata": {},
   "outputs": [],
   "source": [
    "import pickle\n",
    "\n",
    "pickle_out = open(\"Volume1.pickle\", \"wb\")\n",
    "pickle.dump(Volume1, pickle_out)\n",
    "pickle_out.close()\n"
   ]
  }
 ],
 "metadata": {
  "kernelspec": {
   "display_name": "tensorflow",
   "language": "python",
   "name": "tensorflow"
  },
  "language_info": {
   "codemirror_mode": {
    "name": "ipython",
    "version": 3
   },
   "file_extension": ".py",
   "mimetype": "text/x-python",
   "name": "python",
   "nbconvert_exporter": "python",
   "pygments_lexer": "ipython3",
   "version": "3.6.8"
  }
 },
 "nbformat": 4,
 "nbformat_minor": 2
}
